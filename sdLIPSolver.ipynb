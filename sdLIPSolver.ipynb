{
 "cells": [
  {
   "cell_type": "code",
   "execution_count": 1,
   "id": "a51a20df",
   "metadata": {},
   "outputs": [],
   "source": [
    "import numpy as np\n",
    "from pyomo.environ import *\n",
    "from pyomo import opt\n",
    "\n",
    "\n",
    "\n",
    "def fobjective(LIP):\n",
    "    return (summation(LIP.b, LIP.y) + (LIP.B_bar * summation(LIP.c, LIP.y)))\n",
    "\n",
    "def cons1(LIP):\n",
    "    return summation(LIP.c, LIP.y) <= LIP.B\n",
    "\n",
    "\n",
    "def sdLIPSolve(c,b,B_bar,B, Y,Solvername='glpk'):\n",
    "    LIP = AbstractModel()\n",
    "    LIP.A = range(len(c))\n",
    "    LIP.y = Var(LIP.A,within=Binary)\n",
    "    LIP.b = Param(LIP.A, initialize= dict(enumerate(b.flatten(), 0))) # داده باید از نوع دیکشنری شود \n",
    "    LIP.c = Param(LIP.A,initialize= dict(enumerate(c.flatten(), 0)))\n",
    "\n",
    "    LIP.B_bar = Param(initialize=B_bar, domain=Reals)\n",
    "\n",
    "    LIP.obj = Objective(rule=fobjective,sense=minimize)\n",
    "\n",
    "    LIP.B = Param(initialize=B, domain=Reals)\n",
    "    LIP.con1 = Constraint(rule=cons1)   \n",
    "\n",
    "    LIP.cuts = ConstraintList()\n",
    "\n",
    "    opt = SolverFactory(Solvername)\n",
    "    instance = LIP.create_instance()\n",
    "\n",
    "    instance.cuts.clear()\n",
    "    for i in range(len(Y)):\n",
    "        exp1= 0\n",
    "        exp2 = 0\n",
    "        for j in instance.A:\n",
    "          if Y[i][j] == 1:\n",
    "            exp1 += instance.y[j]\n",
    "          else:\n",
    "            exp2 += instance.y[j]\n",
    "        instance.cuts.add(exp1-exp2 <= sum(Y[i][k] for k in instance.A) -1 )\n",
    "    instance.cuts.pprint()\n",
    "    results = opt.solve(instance)\n",
    "    instance.display()\n",
    "\n",
    "    tmp = np.zeros(len(instance.y))\n",
    "    for r in range(len(instance.y)):\n",
    "        tmp[r] =instance.y[r].value\n",
    "\n",
    "    return [tmp]\n"
   ]
  },
  {
   "cell_type": "code",
   "execution_count": null,
   "id": "0744aacc",
   "metadata": {},
   "outputs": [],
   "source": []
  }
 ],
 "metadata": {
  "kernelspec": {
   "display_name": "Python 3 (ipykernel)",
   "language": "python",
   "name": "python3"
  },
  "language_info": {
   "codemirror_mode": {
    "name": "ipython",
    "version": 3
   },
   "file_extension": ".py",
   "mimetype": "text/x-python",
   "name": "python",
   "nbconvert_exporter": "python",
   "pygments_lexer": "ipython3",
   "version": "3.8.0"
  }
 },
 "nbformat": 4,
 "nbformat_minor": 5
}
