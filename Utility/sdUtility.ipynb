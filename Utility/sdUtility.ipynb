{
 "cells": [
  {
   "cell_type": "code",
   "execution_count": 1,
   "id": "52e4d1ad",
   "metadata": {},
   "outputs": [],
   "source": [
    "import os, shutil"
   ]
  },
  {
   "cell_type": "code",
   "execution_count": 2,
   "id": "08c09d56",
   "metadata": {},
   "outputs": [],
   "source": [
    "def sdCreateFolder(Path,FolderName):\n",
    "    # defining a name that will act as directory\n",
    "    abspath = Path + '/' + FolderName\n",
    "    try:\n",
    "        os.mkdir(abspath)\n",
    "    except OSError:\n",
    "        print (\"Creation of the directory %s failed\" % abspath)\n",
    "    else:\n",
    "        print (\"Successfully created the directory %s\" % abspath)"
   ]
  },
  {
   "cell_type": "code",
   "execution_count": 3,
   "id": "8dc85bd0",
   "metadata": {},
   "outputs": [],
   "source": [
    "def sdDeleteFolder(Path,FolderName):\n",
    "    # defining a name that will act as directory\n",
    "    abspath = Path + \"/\" + FolderName\n",
    "    try:\n",
    "        os.rmdir(abspath)\n",
    "    except OSError:\n",
    "        print (\"Deletion of the directory %s failed\" % abspath)\n",
    "    else:\n",
    "        print (\"Successfully deleted the directory %s\" % abspath)"
   ]
  },
  {
   "cell_type": "code",
   "execution_count": 4,
   "id": "53005fc3",
   "metadata": {},
   "outputs": [],
   "source": [
    "def sdDelAllFilesInFolder(Path):\n",
    "    for filename in os.listdir(Path):\n",
    "        file_path = os.path.join(Path, filename)\n",
    "        try:\n",
    "            if os.path.isfile(file_path) or os.path.islink(file_path):\n",
    "                os.unlink(file_path)\n",
    "            elif os.path.isdir(file_path):\n",
    "                shutil.rmtree(file_path)\n",
    "        except Exception as e:\n",
    "            print('Failed to delete %s. Reason: %s' % (file_path, e))"
   ]
  },
  {
   "cell_type": "code",
   "execution_count": null,
   "id": "ff807f22",
   "metadata": {},
   "outputs": [],
   "source": []
  }
 ],
 "metadata": {
  "kernelspec": {
   "display_name": "Python 3 (ipykernel)",
   "language": "python",
   "name": "python3"
  },
  "language_info": {
   "codemirror_mode": {
    "name": "ipython",
    "version": 3
   },
   "file_extension": ".py",
   "mimetype": "text/x-python",
   "name": "python",
   "nbconvert_exporter": "python",
   "pygments_lexer": "ipython3",
   "version": "3.8.0"
  }
 },
 "nbformat": 4,
 "nbformat_minor": 5
}
